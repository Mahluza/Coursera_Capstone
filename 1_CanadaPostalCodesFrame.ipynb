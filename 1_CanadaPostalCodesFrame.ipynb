{
 "cells": [
  {
   "cell_type": "markdown",
   "metadata": {},
   "source": [
    "RETRIEVING TORONTO POSTAL CODE DATA FROM WIKIPEDIA"
   ]
  },
  {
   "cell_type": "code",
   "execution_count": 2,
   "metadata": {},
   "outputs": [],
   "source": [
    "from bs4 import BeautifulSoup\n",
    "import requests as rq \n",
    "import pandas as pd\n",
    "from pandas.compat import StringIO as io"
   ]
  },
  {
   "cell_type": "code",
   "execution_count": 3,
   "metadata": {},
   "outputs": [],
   "source": [
    "#Get data in table from website\n",
    "\n",
    "site = 'https://en.wikipedia.org/wiki/List_of_postal_codes_of_Canada:_M' \n",
    "StoreSite = rq.get(site)\n",
    "soup = BeautifulSoup(StoreSite.text, 'html.parser')\n",
    "table = soup.find(\"table\", class_=\"wikitable sortable\")"
   ]
  },
  {
   "cell_type": "code",
   "execution_count": 9,
   "metadata": {},
   "outputs": [
    {
     "data": {
      "text/plain": [
       "\"Postcode,Borough,Neighbourhood\\nM1A,Not assigned,Not assigned\\nM2A,Not assigned,Not assigned\\nM3A,North York,Parkwoods\\nM4A,North York,Victoria Village\\nM5A,Downtown Toronto,Harbourfront\\nM5A,Downtown Toronto,Regent Park\\nM6A,North York,Lawrence Heights\\nM6A,North York,Lawrence Manor\\nM7A,Queen's Park,Not assigned\\nM8A,Not assigned,Not assigned\\nM9A,Etobicoke,Islington Avenue\\nM1B,Scarborough,Rouge\\nM1B,Scarborough,Malvern\\nM2B,Not assigned,Not assigned\\nM3B,North York,Don Mills North\\nM4B,East York,Woodbine Gardens\\nM4B,East York,Parkview Hill\\nM5B,Downtown Toronto,Ryerson\\nM5B,Downtown Toronto,Garden District\\nM6B,North York,Glencairn\\nM7B,Not assigned,Not assigned\\nM8B,Not assigned,Not assigned\\nM9B,Etobicoke,Cloverdale\\nM9B,Etobicoke,Islington\\nM9B,Etobicoke,Martin Grove\\nM9B,Etobicoke,Princess Gardens\\nM9B,Etobicoke,West Deane Park\\nM1C,Scarborough,Highland Creek\\nM1C,Scarborough,Rouge Hill\\nM1C,Scarborough,Port Union\\nM2C,Not assigned,Not assigned\\nM3C,North York,Flemingdon Park\\nM3C,North York,Don Mills South\\nM4C,East York,Woodbine Heights\\nM5C,Downtown Toronto,St. James Town\\nM6C,York,Humewood-Cedarvale\\nM7C,Not assigned,Not assigned\\nM8C,Not assigned,Not assigned\\nM9C,Etobicoke,Bloordale Gardens\\nM9C,Etobicoke,Eringate\\nM9C,Etobicoke,Markland Wood\\nM9C,Etobicoke,Old Burnhamthorpe\\nM1E,Scarborough,Guildwood\\nM1E,Scarborough,Morningside\\nM1E,Scarborough,West Hill\\nM2E,Not assigned,Not assigned\\nM3E,Not assigned,Not assigned\\nM4E,East Toronto,The Beaches\\nM5E,Downtown Toronto,Berczy Park\\nM6E,York,Caledonia-Fairbanks\\nM7E,Not assigned,Not assigned\\nM8E,Not assigned,Not assigned\\nM9E,Not assigned,Not assigned\\nM1G,Scarborough,Woburn\\nM2G,Not assigned,Not assigned\\nM3G,Not assigned,Not assigned\\nM4G,East York,Leaside\\nM5G,Downtown Toronto,Central Bay Street\\nM6G,Downtown Toronto,Christie\\nM7G,Not assigned,Not assigned\\nM8G,Not assigned,Not assigned\\nM9G,Not assigned,Not assigned\\nM1H,Scarborough,Cedarbrae\\nM2H,North York,Hillcrest Village\\nM3H,North York,Bathurst Manor\\nM3H,North York,Downsview North\\nM3H,North York,Wilson Heights\\nM4H,East York,Thorncliffe Park\\nM5H,Downtown Toronto,Adelaide\\nM5H,Downtown Toronto,King\\nM5H,Downtown Toronto,Richmond\\nM6H,West Toronto,Dovercourt Village\\nM6H,West Toronto,Dufferin\\nM7H,Not assigned,Not assigned\\nM8H,Not assigned,Not assigned\\nM9H,Not assigned,Not assigned\\nM1J,Scarborough,Scarborough Village\\nM2J,North York,Fairview\\nM2J,North York,Henry Farm\\nM2J,North York,Oriole\\nM3J,North York,Northwood Park\\nM3J,North York,York University\\nM4J,East York,East Toronto\\nM5J,Downtown Toronto,Harbourfront East\\nM5J,Downtown Toronto,Toronto Islands\\nM5J,Downtown Toronto,Union Station\\nM6J,West Toronto,Little Portugal\\nM6J,West Toronto,Trinity\\nM7J,Not assigned,Not assigned\\nM8J,Not assigned,Not assigned\\nM9J,Not assigned,Not assigned\\nM1K,Scarborough,East Birchmount Park\\nM1K,Scarborough,Ionview\\nM1K,Scarborough,Kennedy Park\\nM2K,North York,Bayview Village\\nM3K,North York,CFB Toronto\\nM3K,North York,Downsview East\\nM4K,East Toronto,The Danforth West\\nM4K,East Toronto,Riverdale\\nM5K,Downtown Toronto,Design Exchange\\nM5K,Downtown Toronto,Toronto Dominion Centre\\nM6K,West Toronto,Brockton\\nM6K,West Toronto,Exhibition Place\\nM6K,West Toronto,Parkdale Village\\nM7K,Not assigned,Not assigned\\nM8K,Not assigned,Not assigned\\nM9K,Not assigned,Not assigned\\nM1L,Scarborough,Clairlea\\nM1L,Scarborough,Golden Mile\\nM1L,Scarborough,Oakridge\\nM2L,North York,Silver Hills\\nM2L,North York,York Mills\\nM3L,North York,Downsview West\\nM4L,East Toronto,The Beaches West\\nM4L,East Toronto,India Bazaar\\nM5L,Downtown Toronto,Commerce Court\\nM5L,Downtown Toronto,Victoria Hotel\\nM6L,North York,Maple Leaf Park\\nM6L,North York,North Park\\nM6L,North York,Upwood Park\\nM7L,Not assigned,Not assigned\\nM8L,Not assigned,Not assigned\\nM9L,North York,Humber Summit\\nM1M,Scarborough,Cliffcrest\\nM1M,Scarborough,Cliffside\\nM1M,Scarborough,Scarborough Village West\\nM2M,North York,Newtonbrook\\nM2M,North York,Willowdale\\nM3M,North York,Downsview Central\\nM4M,East Toronto,Studio District\\nM5M,North York,Bedford Park\\nM5M,North York,Lawrence Manor East\\nM6M,York,Del Ray\\nM6M,York,Keelesdale\\nM6M,York,Mount Dennis\\nM6M,York,Silverthorn\\nM7M,Not assigned,Not assigned\\nM8M,Not assigned,Not assigned\\nM9M,North York,Emery\\nM9M,North York,Humberlea\\nM1N,Scarborough,Birch Cliff\\nM1N,Scarborough,Cliffside West\\nM2N,North York,Willowdale South\\nM3N,North York,Downsview Northwest\\nM4N,Central Toronto,Lawrence Park\\nM5N,Central Toronto,Roselawn\\nM6N,York,The Junction North\\nM6N,York,Runnymede\\nM7N,Not assigned,Not assigned\\nM8N,Not assigned,Not assigned\\nM9N,York,Weston\\nM1P,Scarborough,Dorset Park\\nM1P,Scarborough,Scarborough Town Centre\\nM1P,Scarborough,Wexford Heights\\nM2P,North York,York Mills West\\nM3P,Not assigned,Not assigned\\nM4P,Central Toronto,Davisville North\\nM5P,Central Toronto,Forest Hill North\\nM5P,Central Toronto,Forest Hill West\\nM6P,West Toronto,High Park\\nM6P,West Toronto,The Junction South\\nM7P,Not assigned,Not assigned\\nM8P,Not assigned,Not assigned\\nM9P,Etobicoke,Westmount\\nM1R,Scarborough,Maryvale\\nM1R,Scarborough,Wexford\\nM2R,North York,Willowdale West\\nM3R,Not assigned,Not assigned\\nM4R,Central Toronto,North Toronto West\\nM5R,Central Toronto,The Annex\\nM5R,Central Toronto,North Midtown\\nM5R,Central Toronto,Yorkville\\nM6R,West Toronto,Parkdale\\nM6R,West Toronto,Roncesvalles\\nM7R,Mississauga,Canada Post Gateway Processing Centre\\nM8R,Not assigned,Not assigned\\nM9R,Etobicoke,Kingsview Village\\nM9R,Etobicoke,Martin Grove Gardens\\nM9R,Etobicoke,Richview Gardens\\nM9R,Etobicoke,St. Phillips\\nM1S,Scarborough,Agincourt\\nM2S,Not assigned,Not assigned\\nM3S,Not assigned,Not assigned\\nM4S,Central Toronto,Davisville\\nM5S,Downtown Toronto,Harbord\\nM5S,Downtown Toronto,University of Toronto\\nM6S,West Toronto,Runnymede\\nM6S,West Toronto,Swansea\\nM7S,Not assigned,Not assigned\\nM8S,Not assigned,Not assigned\\nM9S,Not assigned,Not assigned\\nM1T,Scarborough,Clarks Corners\\nM1T,Scarborough,Sullivan\\nM1T,Scarborough,Tam O'Shanter\\nM2T,Not assigned,Not assigned\\nM3T,Not assigned,Not assigned\\nM4T,Central Toronto,Moore Park\\nM4T,Central Toronto,Summerhill East\\nM5T,Downtown Toronto,Chinatown\\nM5T,Downtown Toronto,Grange Park\\nM5T,Downtown Toronto,Kensington Market\\nM6T,Not assigned,Not assigned\\nM7T,Not assigned,Not assigned\\nM8T,Not assigned,Not assigned\\nM9T,Not assigned,Not assigned\\nM1V,Scarborough,Agincourt North\\nM1V,Scarborough,L'Amoreaux East\\nM1V,Scarborough,Milliken\\nM1V,Scarborough,Steeles East\\nM2V,Not assigned,Not assigned\\nM3V,Not assigned,Not assigned\\nM4V,Central Toronto,Deer Park\\nM4V,Central Toronto,Forest Hill SE\\nM4V,Central Toronto,Rathnelly\\nM4V,Central Toronto,South Hill\\nM4V,Central Toronto,Summerhill West\\nM5V,Downtown Toronto,CN Tower\\nM5V,Downtown Toronto,Bathurst Quay\\nM5V,Downtown Toronto,Island airport\\nM5V,Downtown Toronto,Harbourfront West\\nM5V,Downtown Toronto,King and Spadina\\nM5V,Downtown Toronto,Railway Lands\\nM5V,Downtown Toronto,South Niagara\\nM6V,Not assigned,Not assigned\\nM7V,Not assigned,Not assigned\\nM8V,Etobicoke,Humber Bay Shores\\nM8V,Etobicoke,Mimico South\\nM8V,Etobicoke,New Toronto\\nM9V,Etobicoke,Albion Gardens\\nM9V,Etobicoke,Beaumond Heights\\nM9V,Etobicoke,Humbergate\\nM9V,Etobicoke,Jamestown\\nM9V,Etobicoke,Mount Olive\\nM9V,Etobicoke,Silverstone\\nM9V,Etobicoke,South Steeles\\nM9V,Etobicoke,Thistletown\\nM1W,Scarborough,L'Amoreaux West\\nM1W,Scarborough,Steeles West\\nM2W,Not assigned,Not assigned\\nM3W,Not assigned,Not assigned\\nM4W,Downtown Toronto,Rosedale\\nM5W,Downtown Toronto,Stn A PO Boxes 25 The Esplanade\\nM6W,Not assigned,Not assigned\\nM7W,Not assigned,Not assigned\\nM8W,Etobicoke,Alderwood\\nM8W,Etobicoke,Long Branch\\nM9W,Etobicoke,Northwest\\nM1X,Scarborough,Upper Rouge\\nM2X,Not assigned,Not assigned\\nM3X,Not assigned,Not assigned\\nM4X,Downtown Toronto,Cabbagetown\\nM4X,Downtown Toronto,St. James Town\\nM5X,Downtown Toronto,First Canadian Place\\nM5X,Downtown Toronto,Underground city\\nM6X,Not assigned,Not assigned\\nM7X,Not assigned,Not assigned\\nM8X,Etobicoke,The Kingsway\\nM8X,Etobicoke,Montgomery Road\\nM8X,Etobicoke,Old Mill North\\nM9X,Not assigned,Not assigned\\nM1Y,Not assigned,Not assigned\\nM2Y,Not assigned,Not assigned\\nM3Y,Not assigned,Not assigned\\nM4Y,Downtown Toronto,Church and Wellesley\\nM5Y,Not assigned,Not assigned\\nM6Y,Not assigned,Not assigned\\nM7Y,East Toronto,Business reply mail Processing Centre969 Eastern\\nM8Y,Etobicoke,Humber Bay\\nM8Y,Etobicoke,King's Mill Park\\nM8Y,Etobicoke,Kingsway Park South East\\nM8Y,Etobicoke,Mimico NE\\nM8Y,Etobicoke,Old Mill South\\nM8Y,Etobicoke,The Queensway East\\nM8Y,Etobicoke,Royal York South East\\nM8Y,Etobicoke,Sunnylea\\nM9Y,Not assigned,Not assigned\\nM1Z,Not assigned,Not assigned\\nM2Z,Not assigned,Not assigned\\nM3Z,Not assigned,Not assigned\\nM4Z,Not assigned,Not assigned\\nM5Z,Not assigned,Not assigned\\nM6Z,Not assigned,Not assigned\\nM7Z,Not assigned,Not assigned\\nM8Z,Etobicoke,Kingsway Park South West\\nM8Z,Etobicoke,Mimico NW\\nM8Z,Etobicoke,The Queensway West\\nM8Z,Etobicoke,Royal York South West\\nM8Z,Etobicoke,South of Bloor\\nM9Z,Not assigned,Not assigned\""
      ]
     },
     "execution_count": 9,
     "metadata": {},
     "output_type": "execute_result"
    }
   ],
   "source": [
    "#Turn data into a srting and conform it to a csv\n",
    "\n",
    "data1 = table.text.replace('\\n',',')\n",
    "data2 = data1.replace(',,,','\\n')\n",
    "data3 = data2.replace(',,','')\n",
    "data3"
   ]
  },
  {
   "cell_type": "code",
   "execution_count": 10,
   "metadata": {},
   "outputs": [
    {
     "data": {
      "text/html": [
       "<div>\n",
       "<style scoped>\n",
       "    .dataframe tbody tr th:only-of-type {\n",
       "        vertical-align: middle;\n",
       "    }\n",
       "\n",
       "    .dataframe tbody tr th {\n",
       "        vertical-align: top;\n",
       "    }\n",
       "\n",
       "    .dataframe thead th {\n",
       "        text-align: right;\n",
       "    }\n",
       "</style>\n",
       "<table border=\"1\" class=\"dataframe\">\n",
       "  <thead>\n",
       "    <tr style=\"text-align: right;\">\n",
       "      <th></th>\n",
       "      <th>Postcode</th>\n",
       "      <th>Borough</th>\n",
       "      <th>Neighbourhood</th>\n",
       "    </tr>\n",
       "  </thead>\n",
       "  <tbody>\n",
       "    <tr>\n",
       "      <th>0</th>\n",
       "      <td>M1A</td>\n",
       "      <td>Not assigned</td>\n",
       "      <td>Not assigned</td>\n",
       "    </tr>\n",
       "    <tr>\n",
       "      <th>1</th>\n",
       "      <td>M2A</td>\n",
       "      <td>Not assigned</td>\n",
       "      <td>Not assigned</td>\n",
       "    </tr>\n",
       "    <tr>\n",
       "      <th>2</th>\n",
       "      <td>M3A</td>\n",
       "      <td>North York</td>\n",
       "      <td>Parkwoods</td>\n",
       "    </tr>\n",
       "    <tr>\n",
       "      <th>3</th>\n",
       "      <td>M4A</td>\n",
       "      <td>North York</td>\n",
       "      <td>Victoria Village</td>\n",
       "    </tr>\n",
       "    <tr>\n",
       "      <th>4</th>\n",
       "      <td>M5A</td>\n",
       "      <td>Downtown Toronto</td>\n",
       "      <td>Harbourfront</td>\n",
       "    </tr>\n",
       "  </tbody>\n",
       "</table>\n",
       "</div>"
      ],
      "text/plain": [
       "  Postcode           Borough     Neighbourhood\n",
       "0      M1A      Not assigned      Not assigned\n",
       "1      M2A      Not assigned      Not assigned\n",
       "2      M3A        North York         Parkwoods\n",
       "3      M4A        North York  Victoria Village\n",
       "4      M5A  Downtown Toronto      Harbourfront"
      ]
     },
     "execution_count": 10,
     "metadata": {},
     "output_type": "execute_result"
    }
   ],
   "source": [
    "#Create Canada postal codes (cpc) dataframe from string\n",
    "\n",
    "cpc_df1 = pd.read_csv(io(data3))\n",
    "\n",
    "cpc_df1.head()"
   ]
  },
  {
   "cell_type": "code",
   "execution_count": 6,
   "metadata": {},
   "outputs": [],
   "source": [
    "#Drop rows with unassigned borough \n",
    "cpc_df2 = cpc_df1[cpc_df1['Borough']!='Not assigned'].reset_index(drop=True)\n",
    "\n",
    "#Merge postal codes with multiple neighbourhoods\n",
    "cpc_df3 = cpc_df2.groupby(['Postcode', 'Borough',])['Neighbourhood'].apply(', '.join).reset_index()\n",
    "\n",
    "#Check how many boroughs without a neighbourhood \n",
    "cpc_df3_check = cpc_df3[cpc_df3['Neighbourhood']=='Not assigned']\n",
    "\n",
    "#Assign bourough value to 'Not assigned' neighbourhood\n",
    "cpc_df3.loc[85, 'Neighbourhood'] = cpc_df3.loc[85, 'Borough'] "
   ]
  },
  {
   "cell_type": "code",
   "execution_count": 7,
   "metadata": {},
   "outputs": [
    {
     "data": {
      "text/html": [
       "<div>\n",
       "<style scoped>\n",
       "    .dataframe tbody tr th:only-of-type {\n",
       "        vertical-align: middle;\n",
       "    }\n",
       "\n",
       "    .dataframe tbody tr th {\n",
       "        vertical-align: top;\n",
       "    }\n",
       "\n",
       "    .dataframe thead th {\n",
       "        text-align: right;\n",
       "    }\n",
       "</style>\n",
       "<table border=\"1\" class=\"dataframe\">\n",
       "  <thead>\n",
       "    <tr style=\"text-align: right;\">\n",
       "      <th></th>\n",
       "      <th>Postcode</th>\n",
       "      <th>Borough</th>\n",
       "      <th>Neighbourhood</th>\n",
       "    </tr>\n",
       "  </thead>\n",
       "  <tbody>\n",
       "    <tr>\n",
       "      <th>0</th>\n",
       "      <td>M1B</td>\n",
       "      <td>Scarborough</td>\n",
       "      <td>Rouge, Malvern</td>\n",
       "    </tr>\n",
       "    <tr>\n",
       "      <th>1</th>\n",
       "      <td>M1C</td>\n",
       "      <td>Scarborough</td>\n",
       "      <td>Highland Creek, Rouge Hill, Port Union</td>\n",
       "    </tr>\n",
       "    <tr>\n",
       "      <th>2</th>\n",
       "      <td>M1E</td>\n",
       "      <td>Scarborough</td>\n",
       "      <td>Guildwood, Morningside, West Hill</td>\n",
       "    </tr>\n",
       "    <tr>\n",
       "      <th>3</th>\n",
       "      <td>M1G</td>\n",
       "      <td>Scarborough</td>\n",
       "      <td>Woburn</td>\n",
       "    </tr>\n",
       "    <tr>\n",
       "      <th>4</th>\n",
       "      <td>M1H</td>\n",
       "      <td>Scarborough</td>\n",
       "      <td>Cedarbrae</td>\n",
       "    </tr>\n",
       "    <tr>\n",
       "      <th>5</th>\n",
       "      <td>M1J</td>\n",
       "      <td>Scarborough</td>\n",
       "      <td>Scarborough Village</td>\n",
       "    </tr>\n",
       "    <tr>\n",
       "      <th>6</th>\n",
       "      <td>M1K</td>\n",
       "      <td>Scarborough</td>\n",
       "      <td>East Birchmount Park, Ionview, Kennedy Park</td>\n",
       "    </tr>\n",
       "    <tr>\n",
       "      <th>7</th>\n",
       "      <td>M1L</td>\n",
       "      <td>Scarborough</td>\n",
       "      <td>Clairlea, Golden Mile, Oakridge</td>\n",
       "    </tr>\n",
       "    <tr>\n",
       "      <th>8</th>\n",
       "      <td>M1M</td>\n",
       "      <td>Scarborough</td>\n",
       "      <td>Cliffcrest, Cliffside, Scarborough Village West</td>\n",
       "    </tr>\n",
       "    <tr>\n",
       "      <th>9</th>\n",
       "      <td>M1N</td>\n",
       "      <td>Scarborough</td>\n",
       "      <td>Birch Cliff, Cliffside West</td>\n",
       "    </tr>\n",
       "    <tr>\n",
       "      <th>10</th>\n",
       "      <td>M1P</td>\n",
       "      <td>Scarborough</td>\n",
       "      <td>Dorset Park, Scarborough Town Centre, Wexford ...</td>\n",
       "    </tr>\n",
       "    <tr>\n",
       "      <th>11</th>\n",
       "      <td>M1R</td>\n",
       "      <td>Scarborough</td>\n",
       "      <td>Maryvale, Wexford</td>\n",
       "    </tr>\n",
       "    <tr>\n",
       "      <th>12</th>\n",
       "      <td>M1S</td>\n",
       "      <td>Scarborough</td>\n",
       "      <td>Agincourt</td>\n",
       "    </tr>\n",
       "    <tr>\n",
       "      <th>13</th>\n",
       "      <td>M1T</td>\n",
       "      <td>Scarborough</td>\n",
       "      <td>Clarks Corners, Sullivan, Tam O'Shanter</td>\n",
       "    </tr>\n",
       "    <tr>\n",
       "      <th>14</th>\n",
       "      <td>M1V</td>\n",
       "      <td>Scarborough</td>\n",
       "      <td>Agincourt North, L'Amoreaux East, Milliken, St...</td>\n",
       "    </tr>\n",
       "    <tr>\n",
       "      <th>15</th>\n",
       "      <td>M1W</td>\n",
       "      <td>Scarborough</td>\n",
       "      <td>L'Amoreaux West, Steeles West</td>\n",
       "    </tr>\n",
       "    <tr>\n",
       "      <th>16</th>\n",
       "      <td>M1X</td>\n",
       "      <td>Scarborough</td>\n",
       "      <td>Upper Rouge</td>\n",
       "    </tr>\n",
       "    <tr>\n",
       "      <th>17</th>\n",
       "      <td>M2H</td>\n",
       "      <td>North York</td>\n",
       "      <td>Hillcrest Village</td>\n",
       "    </tr>\n",
       "    <tr>\n",
       "      <th>18</th>\n",
       "      <td>M2J</td>\n",
       "      <td>North York</td>\n",
       "      <td>Fairview, Henry Farm, Oriole</td>\n",
       "    </tr>\n",
       "    <tr>\n",
       "      <th>19</th>\n",
       "      <td>M2K</td>\n",
       "      <td>North York</td>\n",
       "      <td>Bayview Village</td>\n",
       "    </tr>\n",
       "  </tbody>\n",
       "</table>\n",
       "</div>"
      ],
      "text/plain": [
       "   Postcode      Borough                                      Neighbourhood\n",
       "0       M1B  Scarborough                                     Rouge, Malvern\n",
       "1       M1C  Scarborough             Highland Creek, Rouge Hill, Port Union\n",
       "2       M1E  Scarborough                  Guildwood, Morningside, West Hill\n",
       "3       M1G  Scarborough                                             Woburn\n",
       "4       M1H  Scarborough                                          Cedarbrae\n",
       "5       M1J  Scarborough                                Scarborough Village\n",
       "6       M1K  Scarborough        East Birchmount Park, Ionview, Kennedy Park\n",
       "7       M1L  Scarborough                    Clairlea, Golden Mile, Oakridge\n",
       "8       M1M  Scarborough    Cliffcrest, Cliffside, Scarborough Village West\n",
       "9       M1N  Scarborough                        Birch Cliff, Cliffside West\n",
       "10      M1P  Scarborough  Dorset Park, Scarborough Town Centre, Wexford ...\n",
       "11      M1R  Scarborough                                  Maryvale, Wexford\n",
       "12      M1S  Scarborough                                          Agincourt\n",
       "13      M1T  Scarborough            Clarks Corners, Sullivan, Tam O'Shanter\n",
       "14      M1V  Scarborough  Agincourt North, L'Amoreaux East, Milliken, St...\n",
       "15      M1W  Scarborough                      L'Amoreaux West, Steeles West\n",
       "16      M1X  Scarborough                                        Upper Rouge\n",
       "17      M2H   North York                                  Hillcrest Village\n",
       "18      M2J   North York                       Fairview, Henry Farm, Oriole\n",
       "19      M2K   North York                                    Bayview Village"
      ]
     },
     "execution_count": 7,
     "metadata": {},
     "output_type": "execute_result"
    }
   ],
   "source": [
    "#Final cpc dataframe cleaned  \n",
    "cpc_df = cpc_df3\n",
    "cpc_df.head(20)"
   ]
  },
  {
   "cell_type": "code",
   "execution_count": 8,
   "metadata": {},
   "outputs": [
    {
     "data": {
      "text/plain": [
       "(103, 3)"
      ]
     },
     "execution_count": 8,
     "metadata": {},
     "output_type": "execute_result"
    }
   ],
   "source": [
    "cpc_df.shape"
   ]
  }
 ],
 "metadata": {
  "kernelspec": {
   "display_name": "Python 3",
   "language": "python",
   "name": "python3"
  },
  "language_info": {
   "codemirror_mode": {
    "name": "ipython",
    "version": 3
   },
   "file_extension": ".py",
   "mimetype": "text/x-python",
   "name": "python",
   "nbconvert_exporter": "python",
   "pygments_lexer": "ipython3",
   "version": "3.6.5"
  }
 },
 "nbformat": 4,
 "nbformat_minor": 2
}
